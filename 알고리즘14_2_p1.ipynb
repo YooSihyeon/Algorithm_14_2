{
  "nbformat": 4,
  "nbformat_minor": 0,
  "metadata": {
    "colab": {
      "provenance": []
    },
    "kernelspec": {
      "name": "python3",
      "display_name": "Python 3"
    },
    "language_info": {
      "name": "python"
    }
  },
  "cells": [
    {
      "cell_type": "code",
      "source": [
        "from collections import deque\n",
        "\n",
        "# BFS 탐색\n",
        "def bfs(start):\n",
        "    visited = []\n",
        "    queue = deque([start])\n",
        "\n",
        "    while queue:\n",
        "        node = queue.popleft()\n",
        "        if node not in visited:\n",
        "            visited.append(node)\n",
        "            queue.extend(graph[node])  # node → graph[node]로 수정\n",
        "\n",
        "    return visited\n",
        "\n",
        "# graph 입력 (숫자 key로 통일)\n",
        "graph = {\n",
        "    1: [2],\n",
        "    2: [1, 3],\n",
        "    3: [2],\n",
        "    4: [5],\n",
        "    5: [4],\n",
        "    6: []\n",
        "}\n",
        "\n",
        "query_person = 2\n",
        "\n",
        "# 실행\n",
        "num_friends = len(bfs(query_person))\n",
        "friends_node = bfs(query_person)\n",
        "# 숫자 리스트를 문자열로 변환\n",
        "friends_str = \", \".join(str(x) for x in friends_node)\n",
        "\n",
        "# 출력\n",
        "print(f\"{num_friends}, ({friends_str})\")\n",
        "\n"
      ],
      "metadata": {
        "colab": {
          "base_uri": "https://localhost:8080/"
        },
        "id": "jUau1jERNO2n",
        "outputId": "7c74efcb-ff9b-4d41-dede-f9c9c7975548"
      },
      "execution_count": 18,
      "outputs": [
        {
          "output_type": "stream",
          "name": "stdout",
          "text": [
            "3, (2, 1, 3)\n"
          ]
        }
      ]
    }
  ]
}